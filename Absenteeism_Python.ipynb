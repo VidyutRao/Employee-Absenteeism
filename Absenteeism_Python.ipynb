{
 "cells": [
  {
   "cell_type": "code",
   "execution_count": null,
   "metadata": {
    "scrolled": true
   },
   "outputs": [],
   "source": [
    "import os\n",
    "import pandas as pd\n",
    "import numpy as np\n",
    "from fancyimpute import KNN   \n",
    "import matplotlib.pyplot as plt\n",
    "import seaborn as sns\n",
    "from sklearn.ensemble import RandomForestRegressor\n",
    "import statsmodels.api as sm\n",
    "from sklearn.cross_validation import train_test_split"
   ]
  },
  {
   "cell_type": "code",
   "execution_count": null,
   "metadata": {},
   "outputs": [],
   "source": [
    "os.chdir(\"D:\\DS_New\\Project\\Python\")"
   ]
  },
  {
   "cell_type": "code",
   "execution_count": null,
   "metadata": {},
   "outputs": [],
   "source": [
    "df = pd.read_excel(\"Absenteeism_at_work_Project.xls\")"
   ]
  },
  {
   "cell_type": "code",
   "execution_count": null,
   "metadata": {},
   "outputs": [],
   "source": [
    "df.columns"
   ]
  },
  {
   "cell_type": "code",
   "execution_count": null,
   "metadata": {},
   "outputs": [],
   "source": [
    "df.dtypes"
   ]
  },
  {
   "cell_type": "code",
   "execution_count": null,
   "metadata": {},
   "outputs": [],
   "source": [
    "#Univariate Analysis\n",
    "df['Month of absence'] = df['Month of absence'].replace(0, np.nan)\n",
    "df['Reason for absence'] = df['Reason for absence'].replace(0, np.nan)"
   ]
  },
  {
   "cell_type": "code",
   "execution_count": null,
   "metadata": {},
   "outputs": [],
   "source": [
    "lis = [0,1,2,3,4,11,12,14,15]\n",
    "for i in lis :\n",
    "    df.iloc[:,i] = df.iloc[:,i].astype('object') "
   ]
  },
  {
   "cell_type": "code",
   "execution_count": null,
   "metadata": {},
   "outputs": [],
   "source": [
    "#Missing Value Analysis\n",
    "miss_val = pd.DataFrame(df.isnull().sum())\n",
    "miss_val = miss_val.reset_index()\n",
    "miss_val = miss_val.rename(columns = {'index': 'Predictors', 0: 'Missing_Percentage'})\n",
    "miss_val['Missing_Percentage'] = (miss_val['Missing_Percentage']/len(df))*100\n",
    "miss_val = miss_val.sort_values('Missing_Percentage', ascending = False).reset_index(drop = True)\n",
    "print(miss_val)"
   ]
  },
  {
   "cell_type": "code",
   "execution_count": null,
   "metadata": {},
   "outputs": [],
   "source": [
    "df['Reason for absence'].isnull().sum()"
   ]
  },
  {
   "cell_type": "code",
   "execution_count": null,
   "metadata": {},
   "outputs": [],
   "source": [
    "#Impute with KNN\n",
    "df= pd.DataFrame(KNN(k = 1).complete(df), columns = df.columns)"
   ]
  },
  {
   "cell_type": "code",
   "execution_count": null,
   "metadata": {},
   "outputs": [],
   "source": [
    "lis = [0,1,2,3,4,11,12,14,15]\n",
    "for i in lis :\n",
    "    df.iloc[:,i] = df.iloc[:,i].astype('object') "
   ]
  },
  {
   "cell_type": "code",
   "execution_count": null,
   "metadata": {},
   "outputs": [],
   "source": [
    "df['Disciplinary failure'].value_counts()"
   ]
  },
  {
   "cell_type": "code",
   "execution_count": null,
   "metadata": {},
   "outputs": [],
   "source": [
    "%matplotlib inline\n",
    "plt.boxplot(df['Work load Average/day '])"
   ]
  },
  {
   "cell_type": "code",
   "execution_count": null,
   "metadata": {},
   "outputs": [],
   "source": [
    "plt.hist(df['Work load Average/day '], bins='auto')"
   ]
  },
  {
   "cell_type": "code",
   "execution_count": null,
   "metadata": {},
   "outputs": [],
   "source": [
    "#Boxplot Analysis\n",
    "num_nm = []\n",
    "cat_nm = []\n",
    "for i in range(0, df.shape[1]):\n",
    "        if(df.iloc[:,i].dtypes == 'object'):\n",
    "            cat_nm.append(df.columns[i])\n",
    "        else:\n",
    "            num_nm.append(df.columns[i])     \n",
    "        "
   ]
  },
  {
   "cell_type": "code",
   "execution_count": null,
   "metadata": {},
   "outputs": [],
   "source": [
    "#Dropping Outliers\n",
    "for i in num_nm:\n",
    "     print(i)\n",
    "     q75, q25 = np.percentile(df.loc[:,i], [75 ,25])\n",
    "     iqr = q75 - q25\n",
    "     min = q25 - (iqr*1.5)\n",
    "     max = q75 + (iqr*1.5)\n",
    "     print(min)\n",
    "     print(max)\n",
    "     df = df.drop(df[df.loc[:,i] < min].index)\n",
    "     df = df.drop(df[df.loc[:,i] > max].index)"
   ]
  },
  {
   "cell_type": "code",
   "execution_count": null,
   "metadata": {},
   "outputs": [],
   "source": [
    "#Correlation \n",
    "num_dt = df.loc[:, num_nm]"
   ]
  },
  {
   "cell_type": "code",
   "execution_count": null,
   "metadata": {},
   "outputs": [],
   "source": [
    "#Correlation Plot\n",
    "f, ax = plt.subplots(figsize=(7,5))\n",
    "corr_matrix = num_dt.corr()\n",
    "sns.heatmap(corr_matrix, mask=np.zeros_like(corr_matrix, dtype=np.bool), cmap=sns.diverging_palette(220, 10, as_cmap=True),\n",
    "            square=True, ax=ax)"
   ]
  },
  {
   "cell_type": "code",
   "execution_count": null,
   "metadata": {},
   "outputs": [],
   "source": [
    "#Variable Importance with Random Forest\n",
    "X_data = df.iloc[:,0:20]\n",
    "Y_data = df.iloc[:,20]\n",
    "rf = RandomForestRegressor(n_estimators = 500).fit(X_data,Y_data) \n",
    "feature_importances = pd.DataFrame(rf.feature_importances_, index = X_data.columns,\n",
    "                                    columns=['importance']).sort_values('importance',ascending=False)\n",
    "print(feature_importances)"
   ]
  },
  {
   "cell_type": "code",
   "execution_count": null,
   "metadata": {},
   "outputs": [],
   "source": [
    "df = df.drop(['Weight','Social smoker', 'Education', 'Day of the week'],axis= 1)"
   ]
  },
  {
   "cell_type": "code",
   "execution_count": null,
   "metadata": {},
   "outputs": [],
   "source": [
    "#Normalization and Standarization\n",
    "X_data = df.iloc[:,0:16]\n",
    "num_nm = []\n",
    "cat_nm = []\n",
    "for i in range(0, X_data.shape[1]):\n",
    "        if(X_data.iloc[:,i].dtypes == 'object'):\n",
    "            cat_nm.append(X_data.columns[i])\n",
    "        else:\n",
    "            num_nm.append(X_data.columns[i])\n",
    "            \n",
    "for i in num_nm:\n",
    "    df.loc[:,i] = (df.loc[:,i] - np.min(df.loc[:,i]))/(np.max(df.loc[:,i]) - np.min(df.loc[:,i]))\n",
    "    \n",
    "for i in num_nm:\n",
    "    df.loc[:,i] = (df.loc[:,i] - df.loc[:,i].mean())/(df.loc[:,i].std())"
   ]
  },
  {
   "cell_type": "code",
   "execution_count": null,
   "metadata": {},
   "outputs": [],
   "source": [
    "#Regression Error Metrics\n",
    "#MAE\n",
    "def MAE(y, yhat): \n",
    "    mae = np.mean(np.abs(y - yhat))\n",
    "    return mae\n",
    "                  \n",
    "#MSE\n",
    "def MSE(y, yhat):\n",
    "    mse = np.mean((y-yhat)**2)\n",
    "    return mse\n",
    "                  "
   ]
  },
  {
   "cell_type": "code",
   "execution_count": null,
   "metadata": {},
   "outputs": [],
   "source": [
    "#Splitting Data into Train and Test\n",
    "train, test = train_test_split(df, test_size=0.2)"
   ]
  },
  {
   "cell_type": "code",
   "execution_count": null,
   "metadata": {
    "scrolled": true
   },
   "outputs": [],
   "source": [
    "#Linear Regression\n",
    "lr_model = sm.OLS(train.iloc[:,16],train.iloc[:,0:16].astype('float') ).fit()\n",
    "\n",
    "lr_pred = lr_model.predict(test.iloc[:,0:16])\n"
   ]
  },
  {
   "cell_type": "code",
   "execution_count": null,
   "metadata": {
    "scrolled": false
   },
   "outputs": [],
   "source": [
    "lr_model.summary()"
   ]
  },
  {
   "cell_type": "code",
   "execution_count": null,
   "metadata": {},
   "outputs": [],
   "source": [
    "#Linear Regression Error Metrics\n",
    "print(MAE(test.iloc[:,16], lr_pred))\n",
    "print(MSE(test.iloc[:,16], lr_pred))"
   ]
  },
  {
   "cell_type": "code",
   "execution_count": null,
   "metadata": {},
   "outputs": [],
   "source": [
    "#Random Forest Regressor\n",
    "rt_model = RandomForestRegressor(n_estimators = 100).fit(train.iloc[:,0:16], train.iloc[:,16])\n",
    "rt_pred = rt_model.predict(test.iloc[:,0:16])\n"
   ]
  },
  {
   "cell_type": "code",
   "execution_count": null,
   "metadata": {},
   "outputs": [],
   "source": [
    "#Random Forest Error Metrics\n",
    "print(MAE(test.iloc[:,16], rt_pred))\n",
    "print(MSE(test.iloc[:,16], rt_pred))"
   ]
  }
 ],
 "metadata": {
  "kernelspec": {
   "display_name": "Python 3",
   "language": "python",
   "name": "python3"
  },
  "language_info": {
   "codemirror_mode": {
    "name": "ipython",
    "version": 3
   },
   "file_extension": ".py",
   "mimetype": "text/x-python",
   "name": "python",
   "nbconvert_exporter": "python",
   "pygments_lexer": "ipython3",
   "version": "3.6.4"
  }
 },
 "nbformat": 4,
 "nbformat_minor": 2
}
